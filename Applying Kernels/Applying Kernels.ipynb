{
 "cells": [
  {
   "cell_type": "code",
   "execution_count": 1,
   "metadata": {},
   "outputs": [],
   "source": [
    "from PIL import Image\n",
    "import numpy as np"
   ]
  },
  {
   "cell_type": "code",
   "execution_count": 17,
   "metadata": {},
   "outputs": [],
   "source": [
    "def apply_convolution(input_image, convolution_kernel):\n",
    "    # Create a padded version of the input image\n",
    "    padded_input = np.zeros((input_image.shape[0]+2, input_image.shape[1]+2, input_image.shape[2]))\n",
    "    padded_input[1:-1, 1:-1, :] = input_image\n",
    "    # Initialize an output image with zeros\n",
    "    output_image = np.zeros_like(input_image)\n",
    "    \n",
    "    # Iterate over each pixel in the input image\n",
    "    for x in range(input_image.shape[1]):\n",
    "        for y in range(input_image.shape[0]):\n",
    "            for z in range(input_image.shape[2]):\n",
    "                # Apply the convolution operation to the pixel and its neighbors\n",
    "                output_image[y, x, z] = (convolution_kernel * padded_input[y: y+3, x: x+3, z]).sum()\n",
    "    \n",
    "    return output_image\n"
   ]
  },
  {
   "cell_type": "code",
   "execution_count": 22,
   "metadata": {},
   "outputs": [],
   "source": [
    "# Define convolution kernels for different image processing operations\n",
    "sharpen_kernel = np.array([[0, -1, 0],\n",
    "                           [-1, 5, -1],\n",
    "                           [0, -1, 0]])\n",
    "\n",
    "blur_kernel = np.array([[0.0625, 0.125, 0.0625],\n",
    "                        [0.125, 0.25, 0.125],\n",
    "                        [0.0625, 0.125, 0.0625]])\n",
    "\n",
    "box_blur_kernel = np.array([[0.1111, 0.1111, 0.1111],\n",
    "                            [0.1111, 0.1111, 0.1111],\n",
    "                            [0.1111, 0.1111, 0.1111]])\n",
    "\n",
    "gaussian_blur_kernel = np.array([[0.0625, 0.125, 0.0625],\n",
    "                                 [0.125, 0.25, 0.125],\n",
    "                                 [0.0625, 0.125, 0.0625]])\n",
    "\n",
    "# Load the input image\n",
    "image_array = np.array(Image.open('img2.png'))\n",
    "# Apply the Gaussian blur convolution and save the processed image\n",
    "processed_image = Image.fromarray(apply_convolution(image_array, gaussian_blur_kernel))\n",
    "processed_image.save('gaussian_blur_img.png')\n"
   ]
  }
 ],
 "metadata": {
  "kernelspec": {
   "display_name": "Python 3",
   "language": "python",
   "name": "python3"
  },
  "language_info": {
   "codemirror_mode": {
    "name": "ipython",
    "version": 3
   },
   "file_extension": ".py",
   "mimetype": "text/x-python",
   "name": "python",
   "nbconvert_exporter": "python",
   "pygments_lexer": "ipython3",
   "version": "3.7.4"
  }
 },
 "nbformat": 4,
 "nbformat_minor": 2
}
