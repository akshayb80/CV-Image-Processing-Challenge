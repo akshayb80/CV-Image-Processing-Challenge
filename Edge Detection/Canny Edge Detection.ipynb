{
 "cells": [
  {
   "cell_type": "code",
   "execution_count": 7,
   "metadata": {},
   "outputs": [],
   "source": [
    "from PIL import Image\n",
    "import numpy as np"
   ]
  },
  {
   "cell_type": "markdown",
   "metadata": {},
   "source": [
    "### Gradient Calculation & Non Maximum Supression"
   ]
  },
  {
   "cell_type": "code",
   "execution_count": 15,
   "metadata": {},
   "outputs": [],
   "source": [
    "# Function to convert RGB image to grayscale\n",
    "def rgb_to_gray(rgb_image):\n",
    "    red, green, blue = rgb_image[:,:,0], rgb_image[:,:,1], rgb_image[:,:,2]\n",
    "    gray = 0.2989 * red + 0.5870 * green + 0.1140 * blue\n",
    "    return gray\n",
    "\n",
    "# Function to perform grayscale convolution\n",
    "def convolve_grayscale(image, kernel):\n",
    "    output = np.zeros_like(image)\n",
    "    image_padded = np.zeros((image.shape[0]+kernel.shape[0]-1,image.shape[1] + kernel.shape[1]-1))\n",
    "    image_padded[kernel.shape[0]-2:-1:,kernel.shape[1]-2:-1:] = image\n",
    "    image_padded[0,0] = image[0,0]\n",
    "    image_padded[-1,-1] = image[-1,-1]\n",
    "    for x in range(image.shape[1]):\n",
    "        for y in range(image.shape[0]):\n",
    "            output[y, x] = (kernel * image_padded[y: y+kernel.shape[0], x: x+kernel.shape[1]]).sum()\n",
    "    return output\n",
    "\n",
    "\n",
    "# Function for non-maximum suppression\n",
    "def non_max_suppression(img, directions):\n",
    "    M, N = img.shape\n",
    "    result = np.zeros((M, N), dtype=np.int32)\n",
    "    angle = directions * 180. / np.pi\n",
    "    angle[angle < 0] += 180\n",
    "    \n",
    "    for i in range(1, M-1):\n",
    "        for j in range(1, N-1):\n",
    "            try:\n",
    "                q = 255\n",
    "                r = 255\n",
    "                \n",
    "                if (0 <= angle[i, j] < 22.5) or (157.5 <= angle[i, j] <= 180):\n",
    "                    q = img[i, j+1]\n",
    "                    r = img[i, j-1]\n",
    "                elif (22.5 <= angle[i, j] < 67.5):\n",
    "                    q = img[i+1, j-1]\n",
    "                    r = img[i-1, j+1]\n",
    "                elif (67.5 <= angle[i, j] < 112.5):\n",
    "                    q = img[i+1, j]\n",
    "                    r = img[i-1, j]\n",
    "                elif (112.5 <= angle[i, j] < 157.5):\n",
    "                    q = img[i-1, j-1]\n",
    "                    r = img[i+1, j+1]\n",
    "\n",
    "                if (img[i, j] >= q) and (img[i, j] >= r):\n",
    "                    result[i, j] = img[i, j]\n",
    "                else:\n",
    "                    result[i, j] = 0\n",
    "\n",
    "            except IndexError as e:\n",
    "                pass\n",
    "    \n",
    "    return result"
   ]
  },
  {
   "cell_type": "markdown",
   "metadata": {},
   "source": [
    "### Double Threshold"
   ]
  },
  {
   "cell_type": "code",
   "execution_count": 16,
   "metadata": {},
   "outputs": [],
   "source": [
    "# Function for double thresholding\n",
    "def threshold(img, weak, strong, low_threshold_ratio=0.05, high_threshold_ratio=0.09):\n",
    "    \n",
    "    high_threshold = img.max() * high_threshold_ratio\n",
    "    low_threshold = high_threshold * low_threshold_ratio\n",
    "    \n",
    "    M, N = img.shape\n",
    "    res = np.zeros((M, N), dtype=np.int32)\n",
    "    \n",
    "    weak = np.int32(weak)\n",
    "    strong = np.int32(strong)\n",
    "    \n",
    "    strong_i, strong_j = np.where(img >= high_threshold)\n",
    "    zeros_i, zeros_j = np.where(img < low_threshold)\n",
    "    \n",
    "    weak_i, weak_j = np.where((img <= high_threshold) & (img >= low_threshold))\n",
    "    \n",
    "    res[strong_i, strong_j] = strong\n",
    "    res[weak_i, weak_j] = weak\n",
    "    \n",
    "    return res"
   ]
  },
  {
   "cell_type": "markdown",
   "metadata": {},
   "source": [
    "### Edge Tracking by Hysteresis"
   ]
  },
  {
   "cell_type": "code",
   "execution_count": 17,
   "metadata": {},
   "outputs": [],
   "source": [
    "# Function for hysteresis\n",
    "def hysteresis(img, weak, strong):\n",
    "    M, N = img.shape  \n",
    "    for i in range(1, M-1):\n",
    "        for j in range(1, N-1):\n",
    "            if (img[i, j] == weak):\n",
    "                try:\n",
    "                    if ((img[i+1, j-1] == strong) or (img[i+1, j] == strong) or (img[i+1, j+1] == strong)\n",
    "                        or (img[i, j-1] == strong) or (img[i, j+1] == strong)\n",
    "                        or (img[i-1, j-1] == strong) or (img[i-1, j] == strong) or (img[i-1, j+1] == strong)):\n",
    "                        img[i, j] = strong\n",
    "                    else:\n",
    "                        img[i, j] = 0\n",
    "                except IndexError as e:\n",
    "                    pass\n",
    "    return img"
   ]
  },
  {
   "cell_type": "code",
   "execution_count": 20,
   "metadata": {},
   "outputs": [],
   "source": [
    "# Gaussian blur kernel\n",
    "gaussian_blur = np.array([[1,  4,  6,  4, 1],\n",
    "                          [4, 16, 24, 16, 4],\n",
    "                          [6, 24, 36, 24, 6],\n",
    "                          [4, 16, 24, 16, 4],\n",
    "                          [1,  4,  6,  4, 1]]) / 256\n",
    "\n",
    "# Sobel filters for x and y directions\n",
    "x_direction_kernel = np.array([[-1, 0, 1],\n",
    "                               [-2, 0, 2],\n",
    "                               [-1, 0, 1]], np.float32)\n",
    "\n",
    "y_direction_kernel = np.array([[-1, -2, -1],\n",
    "                               [ 0,  0,  0],\n",
    "                               [ 1,  2,  1]], np.float32)\n",
    "\n",
    "# Load and convert the image to grayscale\n",
    "image_path = 'Dog.png'\n",
    "img_rgb = np.array(Image.open(image_path))\n",
    "img_gray = rgb_to_gray(img_rgb)\n",
    "\n",
    "# Noise Reduction using Gaussian Blur\n",
    "img_blurred = convolve_grayscale(img_gray, gaussian_blur)\n",
    "\n",
    "# Gradient Calculation using Sobel Filters\n",
    "x_intensity = convolve_grayscale(img_blurred, x_direction_kernel)\n",
    "y_intensity = convolve_grayscale(img_blurred, y_direction_kernel)\n",
    "gradient_magnitude = np.hypot(x_intensity, y_intensity)\n",
    "gradient_magnitude = gradient_magnitude / gradient_magnitude.max() * 255\n",
    "gradient_direction = np.arctan2(y_intensity, x_intensity)\n",
    "\n",
    "# Non-maximum suppression\n",
    "img_suppressed = non_max_suppression(gradient_magnitude, gradient_direction)\n",
    "\n",
    "# Double Threshold\n",
    "weak_threshold = 75\n",
    "strong_threshold = 255\n",
    "img_thresholded = threshold(img_suppressed, weak_threshold, strong_threshold, 0.05, 0.15)\n",
    "\n",
    "# Applying Hysteresis\n",
    "img_final = hysteresis(img_thresholded, weak_threshold, strong_threshold)\n",
    "\n",
    "# Save the result as an image\n",
    "result_image = Image.fromarray(img_final).convert('RGB')\n",
    "result_image.save('canny_image.jpg')"
   ]
  },
  {
   "cell_type": "code",
   "execution_count": null,
   "metadata": {},
   "outputs": [],
   "source": []
  }
 ],
 "metadata": {
  "kernelspec": {
   "display_name": "Python 3",
   "language": "python",
   "name": "python3"
  },
  "language_info": {
   "codemirror_mode": {
    "name": "ipython",
    "version": 3
   },
   "file_extension": ".py",
   "mimetype": "text/x-python",
   "name": "python",
   "nbconvert_exporter": "python",
   "pygments_lexer": "ipython3",
   "version": "3.7.4"
  }
 },
 "nbformat": 4,
 "nbformat_minor": 2
}
